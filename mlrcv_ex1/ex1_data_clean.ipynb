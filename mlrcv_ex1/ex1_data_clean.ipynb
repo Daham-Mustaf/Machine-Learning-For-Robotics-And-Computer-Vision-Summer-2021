{
  "nbformat": 4,
  "nbformat_minor": 0,
  "metadata": {
    "colab": {
      "name": "warmup_exercises.ipynb",
      "provenance": []
    },
    "kernelspec": {
      "name": "python3",
      "display_name": "Python 3",
      "language": "python"
    }
  },
  "cells": [
    {
      "cell_type": "markdown",
      "metadata": {
        "id": "KxaQLsqY58xV"
      },
      "source": [
        "**Exercise 1 - Data cleaning**\n",
        "\n",
        "---\n",
        "\n",
        "This first exercise will be about data preparation and cleaning. In this exercise we will work with tabular data, work with some basic preprocessing and data cleaning operations."
      ]
    },
    {
      "source": [
        "**1.1 Data preparation \\[5\\]**\n",
        "\n",
        "---"
      ],
      "cell_type": "markdown",
      "metadata": {}
    },
    {
      "cell_type": "code",
      "metadata": {
        "id": "seTbUykX_daF"
      },
      "source": [
        "# import libraries used during this exercise\n",
        "import pandas as pd\n",
        "import numpy as np"
      ],
      "execution_count": null,
      "outputs": []
    },
    {
      "source": [
        "In this exercise we will work with a meteorite landings data provided by NASA (available [here](https://www.kaggle.com/nasa/meteorite-landings)). This dataset contains information about the landing geodesic position, mass, type, class, year, etc."
      ],
      "cell_type": "markdown",
      "metadata": {}
    },
    {
      "cell_type": "code",
      "execution_count": null,
      "metadata": {},
      "outputs": [],
      "source": [
        "# Dataset read\n",
        "df = pd.read_csv('meteorite-landings.csv')\n",
        "# number of rows with number of columns\n",
        "df"
      ]
    },
    {
      "source": [
        "Given this loaded dataframe, your first task will be to prepare this data, and for now you should not remove rows from your data:\n",
        "- Convert all data to numerical\n",
        "- Remove not relevant columns (if any)\n",
        "- Remove redundant data (if any)\n",
        "- Remove non-sense data (if any)\n",
        "\n",
        "In the file *data_cleaning.py* there are some suggested functions to be implemented, feel free to implement the functions differently. (**Note:** for now ignore *NaN* values.)\n"
      ],
      "cell_type": "markdown",
      "metadata": {}
    },
    {
      "cell_type": "code",
      "execution_count": null,
      "metadata": {},
      "outputs": [],
      "source": [
        "# import the data_cleaning.py where you will need to implement the core functions\n",
        "from data_cleaning import *\n",
        "\n",
        "def data_preparation(df):\n",
        "    #########################################################################\n",
        "    # Implement your functions in data_cleaning.py then call them here\n",
        "    ########################### Your data preparation #######################\n",
        "\n",
        "    #########################################################################\n",
        "    return df\n",
        "\n",
        "df = data_preparation(df)\n",
        "df"
      ]
    },
    {
      "source": [
        "After your data cleaning you should notice many differences between the data before and after your data preparation, for example, less columns, different values. Besides that, the columns data type should be all numerical now (no object type).\n"
      ],
      "cell_type": "markdown",
      "metadata": {}
    },
    {
      "source": [
        "**1.2 Data cleaning \\[5\\]**\n",
        "\n",
        "---"
      ],
      "cell_type": "markdown",
      "metadata": {}
    },
    {
      "source": [
        "While preparing your data you should have noticed some undefined values (or *NaN*) in some fields. Before, they should only be ignored, now we need to handle this. In this second task you should deal with those *NaN* values. At this point, of course, you are allowed to remove rows from the DataFrame:\n",
        "- Implement your *NaN-handling* functions on *data_cleaning.py*\n",
        "- Clean your data (no more *NaNs*)\n",
        "\n",
        "Again, some suggested functions are already predefined on *data_cleaning.py*, however feel free to change it."
      ],
      "cell_type": "markdown",
      "metadata": {}
    },
    {
      "cell_type": "code",
      "execution_count": null,
      "metadata": {},
      "outputs": [],
      "source": [
        "def data_cleaning(df):\n",
        "    #########################################################################\n",
        "    # Implement your functions in data_cleaning.py then call them here\n",
        "    ########################### Your data cleaning ##########################\n",
        "\n",
        "    #########################################################################\n",
        "\n",
        "    return df\n",
        "\n",
        "df = data_cleaning(df)\n",
        "df.isnull().values.any()"
      ]
    },
    {
      "source": [
        "If your implementations have worked the output from the code above should be **False** (this call check if the data frame has any NaN/null value)."
      ],
      "cell_type": "markdown",
      "metadata": {}
    }
  ]
}