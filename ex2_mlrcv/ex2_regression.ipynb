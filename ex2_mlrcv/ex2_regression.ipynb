{
  "cells": [
    {
      "cell_type": "markdown",
      "metadata": {
        "id": "KxaQLsqY58xV"
      },
      "source": []
    },
    {
      "cell_type": "markdown",
      "metadata": {},
      "source": [
        "**Exercise 2 - Linear and non-linear regression**\n",
        "\n",
        "---\n",
        "\n",
        "This exercise will be about linear and non-linear regression. Given a set of data points your task will be to implement the functions that calculate the function $\\theta$ parameters to fit the data."
      ]
    },
    {
      "cell_type": "code",
      "execution_count": null,
      "metadata": {},
      "outputs": [],
      "source": [
        "# import libraries used during this exercise\n",
        "# it may be necessary to uncomment the two following pip commands\n",
        "# !pip install pandas\n",
        "# !pip install matplotlib\n",
        "import pandas as pd\n",
        "import numpy as np\n",
        "from core import *\n",
        "%matplotlib notebook\n",
        "%matplotlib inline"
      ]
    },
    {
      "cell_type": "markdown",
      "metadata": {},
      "source": [
        "In this exercise we will use a toy dataset with x and y values, where the x is the observed data that should be used to predict the y values."
      ]
    },
    {
      "cell_type": "code",
      "execution_count": null,
      "metadata": {},
      "outputs": [],
      "source": [
        "# Dataset read\n",
        "df = pd.read_csv('linear.csv')\n",
        "x = df['X'].values\n",
        "y = df['Y'].values"
      ]
    },
    {
      "cell_type": "markdown",
      "metadata": {},
      "source": [
        "**2.1 Linear regression \\[4\\]**\n",
        "\n",
        "---"
      ]
    },
    {
      "cell_type": "markdown",
      "metadata": {},
      "source": []
    },
    {
      "cell_type": "markdown",
      "metadata": {},
      "source": []
    },
    {
      "cell_type": "markdown",
      "metadata": {},
      "source": []
    },
    {
      "cell_type": "markdown",
      "metadata": {},
      "source": [
        "In this first task, given the loaded data *x* and *y* you should implement the *LinearRegression* class functions in the *regression.py* file "
      ]
    },
    {
      "cell_type": "markdown",
      "metadata": {},
      "source": [
        "to calculate the $\\theta_0$ and $\\theta_1$ parameters of the linear function $f(x) = x^T\\theta + \\theta_$ that will fit the data:\n",
        "- *calculate_theta*\n",
        "- *predict_y*\n",
        "\n",
        "You should also implement *split_train_test* to split your dataset in train and validation sets. Usually the data is splitted in train, validation and test sets, but in this exercise we are working with a small simple dataset so we will abstract this and split only on train and validation sets.\n",
        "(**Note:** The *plot_regression* function is already implemented.)"
      ]
    },
    {
      "cell_type": "code",
      "execution_count": null,
      "metadata": {},
      "outputs": [],
      "source": [
        "from regression import *\n",
        "\n",
        "# split the data\n",
        "x_train, y_train, x_val, y_val = split_data(x, y)"
      ]
    },
    {
      "cell_type": "code",
      "execution_count": null,
      "metadata": {},
      "outputs": [],
      "source": [
        "model = LinearRegression()\n",
        "model.calculate_theta(x_train, y_train)\n",
        "y_pred = model.predict_y(x_train)\n",
        "\n",
        "plot_regression(x_train, y_train, y_pred)"
      ]
    },
    {
      "cell_type": "markdown",
      "metadata": {},
      "source": [
        "If your implementation have worked, you should see in the plot a red line passing right on the middle of your data, that line is your regression model, which predict a *y* given an input *x*.\n"
      ]
    },
    {
      "cell_type": "markdown",
      "metadata": {},
      "source": [
        "**2.2 Non-linear regression \\[4\\]**\n",
        "\n",
        "---"
      ]
    },
    {
      "cell_type": "markdown",
      "metadata": {},
      "source": [
        "In some cases your data may not have a linear relation, which means that linear regression may not correctly fit your data. In this second task you should deal with non-linear regression."
      ]
    },
    {
      "cell_type": "code",
      "execution_count": null,
      "metadata": {},
      "outputs": [],
      "source": [
        "# Dataset read\n",
        "df = pd.read_csv('non_linear.csv')\n",
        "x = df['X'].values\n",
        "y = df['Y'].values"
      ]
    },
    {
      "cell_type": "markdown",
      "metadata": {},
      "source": [
        "If you run the same implementations from the last task, you should see that the regression model can not properly fit non-linear data."
      ]
    },
    {
      "cell_type": "code",
      "execution_count": null,
      "metadata": {},
      "outputs": [],
      "source": [
        "x_train, y_train, x_val, y_val = split_data(x, y)"
      ]
    },
    {
      "cell_type": "code",
      "execution_count": null,
      "metadata": {},
      "outputs": [],
      "source": [
        "model = LinearRegression()\n",
        "model.calculate_theta(x_train, y_train)\n",
        "y_pred = model.predict_y(x_train)\n",
        "plot_regression(x_train, y_train, y_pred)"
      ]
    },
    {
      "cell_type": "markdown",
      "metadata": {},
      "source": [
        "For that, a non-linear regression should be implemented in order to fit non-linear data. In the next task you should implement the functions from the *NonLinearRegression* class to calculate the $\\theta$ parameters (now it will be a vector of parameters) of the regression function $f(x) = \\phi(x)^T\\theta$ for non-linear data, where $\\phi$ is a non-linear transformation, e.g. polynomial transformation. Your implementation should be able to build a model for *n-degree* polynoms, where the polynom degree will be passed as argument."
      ]
    },
    {
      "cell_type": "code",
      "execution_count": null,
      "metadata": {},
      "outputs": [],
      "source": [
        "from regression import *\n",
        "\n",
        "model = NonLinearRegression()\n",
        "model.calculate_theta(x_train, y_train, degree=2)\n",
        "y_pred = model.predict_y(x_train)\n",
        "\n",
        "plot_regression(x_train, y_train, y_pred)"
      ]
    },
    {
      "cell_type": "markdown",
      "metadata": {},
      "source": [
        "If you have implemented it correctly you should se a curved line passing over your data. The non-linear regression fits better our non-linear data since now our model is a polynom and not just a line anymore."
      ]
    },
    {
      "cell_type": "markdown",
      "metadata": {},
      "source": [
        "**2.3 Evaluating your model \\[2\\]**\n",
        "\n",
        "---"
      ]
    },
    {
      "cell_type": "markdown",
      "metadata": {},
      "source": [
        "With a non-linear regression model you can increase your polynom degree to improve even more your model. In this task you should implement the root mean square error (RMSE) metric and evaluate your model with different polynomial degrees (where $\\overline{y}$ is the prediction from your model):\n",
        "\n",
        "\n",
        "$ RMSE(y, \\overline{y}) = \\sqrt{\\frac{1}{N}\\sum_{n=1}^{N} (y_n - \\overline{y_n})^2} $"
      ]
    },
    {
      "cell_type": "code",
      "execution_count": null,
      "metadata": {},
      "outputs": [],
      "source": [
        "from regression import *\n",
        "\n",
        "##################################################################################\n",
        "# call here your functions. You should:\n",
        "# - calculate the function parameters theta (vector of thetas)\n",
        "# - infer the y_val_pred values given x_val and the calculated theta with degree=d\n",
        "# - calculate the RMSE for the model\n",
        "##################################################################################\n",
        "\n",
        "for d in range(2,17):\n",
        "    model = NonLinearRegression()\n",
        "    model.calculate_theta(x_train, y_train, degree=d)\n",
        "    y_pred = model.predict_y(x_train)\n",
        "\n",
        "    plot_regression(x_train, y_train, y_pred)\n",
        "    y_val_pred = model.predict_y(x_val)\n",
        "    # print root mean square error for train and validation sets\n",
        "    train_rmse = rmse(y_train, y_pred)\n",
        "    val_rmse = rmse(y_val, y_val_pred)\n",
        "    print('Degree: %d\\tRMSE train: %f\\tRMSE val: %f' % (d, train_rmse, val_rmse))"
      ]
    },
    {
      "cell_type": "markdown",
      "metadata": {},
      "source": [
        "From the plots above you can notice that, as the polynom degree increase, the train RMSE value decrease, however for the validation set the RMSE increases. Why does this happen?\n",
        "\n",
        "- *Answer here*"
      ]
    }
  ],
  "metadata": {
    "colab": {
      "name": "warmup_exercises.ipynb",
      "provenance": []
    },
    "kernelspec": {
      "display_name": "Python 3",
      "language": "python",
      "name": "python3"
    }
  },
  "nbformat": 4,
  "nbformat_minor": 0
}
